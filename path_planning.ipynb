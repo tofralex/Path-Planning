{
 "cells": [
  {
   "cell_type": "markdown",
   "metadata": {},
   "source": [
    "# Práctica 3: Sistema de Planificación de Ruta"
   ]
  },
  {
   "cell_type": "markdown",
   "metadata": {},
   "source": [
    "## Imports y archivos de ejemplo"
   ]
  },
  {
   "cell_type": "code",
   "execution_count": 1,
   "metadata": {
    "colab": {
     "base_uri": "https://localhost:8080/"
    },
    "executionInfo": {
     "elapsed": 1723,
     "status": "ok",
     "timestamp": 1609543773291,
     "user": {
      "displayName": "Alejandro Francisco Toral",
      "photoUrl": "https://lh3.googleusercontent.com/a-/AOh14GhHaSXRaBwdqsURBZoU0N_N-O5kkFWuhxVSg51SvQ=s64",
      "userId": "09716180128273542332"
     },
     "user_tz": -60
    },
    "id": "4g-uaaGeczKm",
    "outputId": "2d0402ff-89f3-4587-a382-766716fccf1e"
   },
   "outputs": [],
   "source": [
    "#Imports\n",
    "import cv2\n",
    "import matplotlib.pyplot as plt\n",
    "import numpy as np\n",
    "import sys\n",
    "import math\n",
    "from PIL import Image, ImageDraw\n",
    "from random import randrange \n",
    "import matplotlib.cm as cm\n",
    "from heapq import *\n",
    "\n",
    "# Every file used to test the algorithm\n",
    "maze_file = \"imgs/maze.png\"\n",
    "maze2_file = \"imgs/maze2.png\"\n",
    "lab_file = \"imgs/labirinto.png\"\n",
    "prado_file = \"imgs/prado.png\"\n",
    "zelda_file = \"imgs/zelda.png\"\n",
    "\n",
    "# Image with the start and end points\n",
    "ppath_file = \"imgs/path_points.png\"\n",
    "\n",
    "# Image with the final path\n",
    "fpath_file = \"imgs/final_path.png\"    "
   ]
  },
  {
   "cell_type": "markdown",
   "metadata": {},
   "source": [
    "## Selección de variables\n",
    "\n",
    "Puede cambiar los valores de los elementos principales del código desde aquí.\n",
    "\n",
    "Existen una serie de imágenes predeterminadas con sus correspondientes valores de reducción.\n",
    "\n",
    "Si se desean añadir nuevos archivos, basta con cambiar la variable \"file_path\" por la ruta del archivo deseado.\n",
    "\n",
    "* A tener en cuenta: las imágenes deben ser minimizadas para poder ser tratadas con rapidez. Se recomiendan tamaños del orden de 10 a 15."
   ]
  },
  {
   "cell_type": "code",
   "execution_count": 2,
   "metadata": {},
   "outputs": [],
   "source": [
    "# Read the image and get the binary matrix\n",
    "\"\"\"\n",
    "    maze_file ==> Maze from the example assets of Moodle. Ideal size: \n",
    "    resize_w = 7\n",
    "    resize_h = 7\n",
    "    \n",
    "    maze2_file ==> Maze from https://www.dreamstime.com/vector-illustration-maze-gray-background-layers-grouped-easy-editing-illustration-your-design-vector-illustration-image111835219\n",
    "    Ideal size:\n",
    "    resize_w = 60\n",
    "    resize_h = 60\n",
    "    \n",
    "    lab_file ==> Maze from the example assets of Moodle. Ideal size:     \n",
    "    resize_w = 15\n",
    "    resize_h = 15\n",
    "    \n",
    "    prado_file ==> Floor plan of the Prado Museum from the example assets of Moodle. Ideal size:\n",
    "    resize_w = 9\n",
    "    resize_h = 9\n",
    "    \n",
    "    zelda_file ==> Screenshot from The Legend of Zelda (1986) for NES (Nintendo(R)). Ideal size:     \n",
    "    resize_w = 15\n",
    "    resize_h = 15\n",
    "    \n",
    "\"\"\"\n",
    "\n",
    "# Selected image\n",
    "file_path = maze_file\n",
    "\n",
    "# Times that the image will be shrinked\n",
    "resize_w = 4\n",
    "resize_h = 4"
   ]
  },
  {
   "cell_type": "markdown",
   "metadata": {},
   "source": [
    "## Funciones auxiliares"
   ]
  },
  {
   "cell_type": "code",
   "execution_count": 3,
   "metadata": {},
   "outputs": [],
   "source": [
    "# Print the space as a binary matrix\n",
    "def print_space(space, h, w):\n",
    "    for r in range(h):\n",
    "      for c in range(w):\n",
    "        print(space[r,c],end='')\n",
    "      print()"
   ]
  },
  {
   "cell_type": "code",
   "execution_count": 4,
   "metadata": {},
   "outputs": [],
   "source": [
    "# Function used to show the image\n",
    "def img_show(img_file):\n",
    "  # Read and show the image used as a map\n",
    "  img = cv2.imread(img_file)\n",
    "  plt.figure(figsize=(7,7))\n",
    "  # Show the image\n",
    "  plt.imshow(img)\n",
    "  plt.show()"
   ]
  },
  {
   "cell_type": "code",
   "execution_count": 5,
   "metadata": {
    "executionInfo": {
     "elapsed": 1677,
     "status": "ok",
     "timestamp": 1609543773294,
     "user": {
      "displayName": "Alejandro Francisco Toral",
      "photoUrl": "https://lh3.googleusercontent.com/a-/AOh14GhHaSXRaBwdqsURBZoU0N_N-O5kkFWuhxVSg51SvQ=s64",
      "userId": "09716180128273542332"
     },
     "user_tz": -60
    },
    "id": "4tMnEPLl-FY-"
   },
   "outputs": [],
   "source": [
    "#From https://stackoverflow.com/questions/57610416/how-to-read-a-maze-from-an-image-and-convert-it-to-binary-values-in-python\n",
    "\n",
    "# Function used to read the image and convert it to binary\n",
    "def read_img(img_file, re_w, re_h): \n",
    "\n",
    "  img_show(img_file)\n",
    "\n",
    "  # Open the image, make greyscale, and get its dimensions\n",
    "  im = Image.open(img_file).convert('L')\n",
    "  w, h = im.size\n",
    "\n",
    "  # Ensure all black pixels are 0 and all white pixels are 1\n",
    "  binary = im.point(lambda p: p > 128 and 1)\n",
    "\n",
    "  # Resize its height and width to make an easier search\n",
    "  binary = binary.resize((w//re_w,h//re_h),Image.NEAREST)\n",
    "  w, h = binary.size\n",
    "\n",
    "  # Convert to Numpy array\n",
    "  space = np.array(binary)\n",
    "  print(\"Base \\n\")\n",
    "  \n",
    "  #print_space(space, h, w)\n",
    "\n",
    "  return space, w, h"
   ]
  },
  {
   "cell_type": "code",
   "execution_count": 6,
   "metadata": {},
   "outputs": [],
   "source": [
    "# The heuristic estimates the minimun path to reach goal from a node as a cost. Euclidean distance\n",
    "def heuristic (current_point, end):\n",
    "    return math.sqrt((end[0] - current_point[0])**2 + (end[1] - current_point[1])**2)\n",
    "\n",
    "# Evaluation function used to sort the list. best = path_cost + heuristic\n",
    "def best (state):\n",
    "    return state[2] + state[3] "
   ]
  },
  {
   "cell_type": "markdown",
   "metadata": {},
   "source": [
    "## Algoritmo principal: A*"
   ]
  },
  {
   "cell_type": "code",
   "execution_count": 7,
   "metadata": {
    "executionInfo": {
     "elapsed": 1641,
     "status": "ok",
     "timestamp": 1609543773297,
     "user": {
      "displayName": "Alejandro Francisco Toral",
      "photoUrl": "https://lh3.googleusercontent.com/a-/AOh14GhHaSXRaBwdqsURBZoU0N_N-O5kkFWuhxVSg51SvQ=s64",
      "userId": "09716180128273542332"
     },
     "user_tz": -60
    },
    "id": "hMIKdmhnyqp1"
   },
   "outputs": [],
   "source": [
    "def astar(space, start, end, w, h):\n",
    "\n",
    "    # List of states: each state is (coordinates, previous, path_cost, heuristic_cost)\n",
    "    states = [((start[0], start[1]), list(), 0, heuristic(start, end))]\n",
    "    \n",
    "    # Dictionary of visited points\n",
    "    visited = {} \n",
    "    \n",
    "    while True:\n",
    "\n",
    "        # Get first state (least cost)\n",
    "        state = states.pop(0)\n",
    "\n",
    "        # Check if the end has been reached\n",
    "        (i, j) = state[0]\n",
    "        if space[i][j] == 3:\n",
    "            path = [state[0]] + state[1]\n",
    "            path.reverse()\n",
    "            return path, next_cost\n",
    "\n",
    "        # Set the cost (path travelled so far)\n",
    "        visited[(i, j)] = state[2] \n",
    "        \n",
    "        # Explore neighbours of the current position\n",
    "        neighbour = []\n",
    "        if i > 0 and space[i-1][j] > 0:\n",
    "            neighbour.append((i-1, j))\n",
    "        if i < h and space[i+1][j] > 0:\n",
    "            neighbour.append((i+1, j))\n",
    "        if j > 0 and space[i][j-1] > 0:\n",
    "            neighbour.append((i, j-1))\n",
    "        if j < w and space[i][j+1] > 0:\n",
    "            neighbour.append((i, j+1))\n",
    "        \n",
    "        # Discard bad neighbours\n",
    "        for n in neighbour:\n",
    "            next_cost = state[2] + 1\n",
    "            # Ignore those neighbours already visited\n",
    "            if n in visited and visited[n] >= next_cost:\n",
    "                continue\n",
    "            states.append((n, [state[0]] + state[1], next_cost, heuristic(n, end)))\n",
    "\n",
    "        # Resort the list\n",
    "        states.sort(key=best)"
   ]
  },
  {
   "cell_type": "markdown",
   "metadata": {},
   "source": [
    "## Ejecución"
   ]
  },
  {
   "cell_type": "code",
   "execution_count": null,
   "metadata": {
    "colab": {
     "base_uri": "https://localhost:8080/",
     "height": 1000
    },
    "executionInfo": {
     "elapsed": 2616,
     "status": "ok",
     "timestamp": 1609543774293,
     "user": {
      "displayName": "Alejandro Francisco Toral",
      "photoUrl": "https://lh3.googleusercontent.com/a-/AOh14GhHaSXRaBwdqsURBZoU0N_N-O5kkFWuhxVSg51SvQ=s64",
      "userId": "09716180128273542332"
     },
     "user_tz": -60
    },
    "id": "LJ8muHK3WQo1",
    "outputId": "d5fa59a9-f974-4d1e-ce3d-26801d03756a"
   },
   "outputs": [
    {
     "data": {
      "image/png": "[encoded data removed]",
      "text/plain": [
       "<Figure size 504x504 with 1 Axes>"
      ]
     },
     "metadata": {
      "needs_background": "light"
     },
     "output_type": "display_data"
    },
    {
     "name": "stdout",
     "output_type": "stream",
     "text": [
      "Base \n",
      "\n",
      "\n",
      " Maze with random start and goal \n",
      "\n",
      "Start:  (11, 19)\n",
      "End:  (14, 30) \n",
      "\n"
     ]
    },
    {
     "data": {
      "image/png": "[encoded data removed]",
      "text/plain": [
       "<Figure size 504x504 with 1 Axes>"
      ]
     },
     "metadata": {
      "needs_background": "light"
     },
     "output_type": "display_data"
    }
   ],
   "source": [
    "def main():\n",
    "\n",
    "    space, w, h = read_img(file_path, resize_w, resize_h)\n",
    "    \n",
    "    # Define randomly the start and end points\n",
    "    start = (randrange(h-1), randrange(w-1))\n",
    "    end = (randrange(h-1), randrange(w-1))\n",
    "    \n",
    "    # Both start and end must not be a 0 (wall) nor be at the edges of the image    \n",
    "    while start == end or space[start] == 0 or space[end] == 0 or start[0] == h or start[1] == w or end[0] == h or end[1] == w:\n",
    "      start = (randrange(h-1), randrange(w-1))\n",
    "      end = (randrange(h-1), randrange(w-1))\n",
    "\n",
    "    # Start point will be define internally as a 2\n",
    "    space[start] = 2\n",
    "    # End point will be define internally as a 3\n",
    "    space[end] = 3\n",
    "    \n",
    "    print(\"\\n Maze with random start and goal \\n\")\n",
    "    print(\"Start: \", start)\n",
    "    print(\"End: \", end, \"\\n\")\n",
    "    \n",
    "    plt.imsave(ppath_file, np.array(space), cmap=cm.Greys)\n",
    "    img_show(ppath_file)\n",
    "    \n",
    "    # Call the algorithm\n",
    "    path, cost = astar(space, start, end, w, h)\n",
    "    \n",
    "    # Each point of the path will be internally a 4\n",
    "    mod_space = space\n",
    "    for i in path:\n",
    "      mod_space[i] = 4\n",
    "\n",
    "    print(\"\\n Final path \\n\") \n",
    "    \n",
    "    print(\"Path taken: \", path)\n",
    "    print(\"Final cost: \", cost, \"\\n\")\n",
    "    \n",
    "    # Save the final image to show it    \n",
    "    plt.imsave(fpath_file, np.array(mod_space), cmap=cm.Greys)\n",
    "    \n",
    "    img_show(fpath_file)\n",
    "\n",
    "if __name__ == '__main__':\n",
    "    main()"
   ]
  }
 ],
 "metadata": {
  "colab": {
   "authorship_tag": "ABX9TyNeBou3OKbLX24Eu9wJFCnS",
   "name": "path_planning.ipynb",
   "provenance": []
  },
  "kernelspec": {
   "display_name": "Python 3",
   "language": "python",
   "name": "python3"
  },
  "language_info": {
   "codemirror_mode": {
    "name": "ipython",
    "version": 3
   },
   "file_extension": ".py",
   "mimetype": "text/x-python",
   "name": "python",
   "nbconvert_exporter": "python",
   "pygments_lexer": "ipython3",
   "version": "3.8.2"
  }
 },
 "nbformat": 4,
 "nbformat_minor": 1
}
